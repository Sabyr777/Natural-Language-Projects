{
 "cells": [
  {
   "cell_type": "markdown",
   "id": "39b725fe-a3d2-45f9-a249-7ff6ae91ad5c",
   "metadata": {},
   "source": [
    "## Markov's text generator \n",
    "\n",
    "- Define the 1st word probability\n",
    "- Define the 1st order Markov model for the second word\n",
    "- Define the 2nd order Markov model for the rest of the text\n",
    "\n"
   ]
  },
  {
   "cell_type": "code",
   "execution_count": null,
   "id": "a25d069f-c36b-4434-92dd-9a59617969c0",
   "metadata": {},
   "outputs": [],
   "source": [
    "impo"
   ]
  }
 ],
 "metadata": {
  "kernelspec": {
   "display_name": "Python 3 (ipykernel)",
   "language": "python",
   "name": "python3"
  },
  "language_info": {
   "codemirror_mode": {
    "name": "ipython",
    "version": 3
   },
   "file_extension": ".py",
   "mimetype": "text/x-python",
   "name": "python",
   "nbconvert_exporter": "python",
   "pygments_lexer": "ipython3",
   "version": "3.12.4"
  }
 },
 "nbformat": 4,
 "nbformat_minor": 5
}
