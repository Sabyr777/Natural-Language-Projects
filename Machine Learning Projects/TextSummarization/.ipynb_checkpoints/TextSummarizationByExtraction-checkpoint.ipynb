{
 "cells": [
  {
   "cell_type": "code",
   "execution_count": 116,
   "id": "1e25e187-db42-43b4-8ec8-d181dd6f4e53",
   "metadata": {},
   "outputs": [],
   "source": [
    "import pandas as pd\n",
    "import numpy as np\n",
    "from nltk import sent_tokenize\n",
    "from sklearn.feature_extraction.text import TfidfVectorizer\n",
    "import matplotlib.pyplot as plt\n",
    "from scipy import sparse"
   ]
  },
  {
   "cell_type": "code",
   "execution_count": 118,
   "id": "cedb30a2-a6cb-49f7-83f0-0ed775abd26e",
   "metadata": {},
   "outputs": [],
   "source": [
    "df = pd.read_csv('bbc_text_cls.csv')"
   ]
  },
  {
   "cell_type": "code",
   "execution_count": 51,
   "id": "dc7cbb38-266f-49f0-887d-0850939802c3",
   "metadata": {},
   "outputs": [],
   "source": [
    "def extract_main_sentences(text):\n",
    "\n",
    "    sentences_list = sent_tokenize(text)\n",
    "    \n",
    "    vectorizer = TfidfVectorizer()\n",
    "    SentencesVect = vectorizer.fit_transform(sentences_list)\n",
    "    \n",
    "    row_indices, _, values = sparse.find(SentencesVect)\n",
    "    \n",
    "    row_averages = np.zeros(SentencesVect.shape[0])\n",
    "    \n",
    "    \n",
    "    # Compute average of non-zero values for each row\n",
    "    for row in range(SentencesVect.shape[0]):\n",
    "        # Get indices of non-zero values in current row\n",
    "        row_mask = row_indices == row\n",
    "        if np.any(row_mask):\n",
    "            # Calculate mean of non-zero values for this row\n",
    "            row_averages[row] = np.mean(values[row_mask])\n",
    "        else:\n",
    "            # If row has no non-zero values, set average to 0\n",
    "            row_averages[row] = 0\n",
    "    \n",
    "    # Pair sentences with their row averages\n",
    "    paired = list(zip(sentences_list, row_averages))\n",
    "    \n",
    "    # Sort by row averages in descending order\n",
    "    sorted_pairs = sorted(paired, key=lambda x: x[1], reverse=True)\n",
    "    \n",
    "    # Get the top 10 sentences with their averages\n",
    "    top_10 = sorted_pairs[:10]\n",
    "\n",
    "    return top_10"
   ]
  },
  {
   "cell_type": "code",
   "execution_count": 109,
   "id": "076fd28a-fd6e-4bae-bf45-5995bd8b7707",
   "metadata": {},
   "outputs": [
    {
     "name": "stdout",
     "output_type": "stream",
     "text": [
      "1. Average: 0.311306, Sentence: But its own internet business, AOL, had has mixed fortunes.\n",
      "2. Average: 0.298770, Sentence: Time Warner's fourth quarter profits were slightly better than analysts' expectations.\n",
      "3. Average: 0.282869, Sentence: TimeWarner said fourth quarter sales rose 2% to $11.1bn from $10.9bn.\n",
      "4. Average: 0.272167, Sentence: Time Warner said on Friday that it now owns 8% of search-engine Google.\n",
      "5. Average: 0.246508, Sentence: It lost 464,000 subscribers in the fourth quarter profits were lower than in the preceding three quarters.\n",
      "6. Average: 0.232448, Sentence: It will now book the sale of its stake in AOL Europe as a loss on the value of that stake.\n",
      "7. Average: 0.231819, Sentence: However, the company said AOL's underlying profit before exceptional items rose 8% on the back of stronger internet advertising revenues.\n",
      "8. Average: 0.230654, Sentence: It has already offered to pay $300m to settle charges, in a deal that is under review by the SEC.\n",
      "9. Average: 0.230575, Sentence: For 2005, TimeWarner is projecting operating earnings growth of around 5%, and also expects higher revenue and wider profit margins.\n",
      "10. Average: 0.224403, Sentence: TimeWarner is to restate its accounts as part of efforts to resolve an inquiry into AOL by US market regulators.\n"
     ]
    }
   ],
   "source": [
    "# Pair sentences with their row averages\n",
    "paired = list(zip(sentences_list, row_averages))\n",
    "\n",
    "# Sort by row averages in descending order\n",
    "sorted_pairs = sorted(paired, key=lambda x: x[1], reverse=True)\n",
    "\n",
    "# Get the top 10 sentences with their averages\n",
    "top_10 = sorted_pairs[:10]\n",
    "\n",
    "# Print the results\n",
    "for i, (sentence, avg) in enumerate(top_10, 1):\n",
    "    print(f\"{i}. Average: {avg:.6f}, Sentence: {sentence}\")"
   ]
  },
  {
   "cell_type": "markdown",
   "id": "5096665c-7b3b-4096-b8c2-f07c25d699d9",
   "metadata": {},
   "source": [
    "## Text Ranking"
   ]
  },
  {
   "cell_type": "code",
   "execution_count": 130,
   "id": "674e68a3-95e4-4aaf-9283-debf33c6df53",
   "metadata": {},
   "outputs": [],
   "source": [
    "sentences_list = sent_tokenize(df.text[0])\n",
    "\n",
    "vectorizer = TfidfVectorizer()\n",
    "SentencesVect = vectorizer.fit_transform(sentences_list)"
   ]
  },
  {
   "cell_type": "code",
   "execution_count": 134,
   "id": "e92a94ba-bf07-4e82-ac37-8f13f5bd530b",
   "metadata": {},
   "outputs": [
    {
     "data": {
      "text/plain": [
       "<20x228 sparse matrix of type '<class 'numpy.float64'>'\n",
       "\twith 389 stored elements in Compressed Sparse Row format>"
      ]
     },
     "execution_count": 134,
     "metadata": {},
     "output_type": "execute_result"
    }
   ],
   "source": [
    "SentencesVect"
   ]
  },
  {
   "cell_type": "code",
   "execution_count": null,
   "id": "b880e4db-9bcb-41bd-8243-4288cdababf5",
   "metadata": {},
   "outputs": [],
   "source": []
  }
 ],
 "metadata": {
  "kernelspec": {
   "display_name": "Python 3 (ipykernel)",
   "language": "python",
   "name": "python3"
  },
  "language_info": {
   "codemirror_mode": {
    "name": "ipython",
    "version": 3
   },
   "file_extension": ".py",
   "mimetype": "text/x-python",
   "name": "python",
   "nbconvert_exporter": "python",
   "pygments_lexer": "ipython3",
   "version": "3.12.4"
  }
 },
 "nbformat": 4,
 "nbformat_minor": 5
}
