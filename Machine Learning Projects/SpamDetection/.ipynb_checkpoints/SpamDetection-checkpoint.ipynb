{
 "cells": [
  {
   "cell_type": "code",
   "execution_count": 1,
   "id": "4f046f3a-3dc8-49eb-9bf9-9430f731f4c4",
   "metadata": {},
   "outputs": [],
   "source": [
    "import pandas as pd\n",
    "import numpy as np\n",
    "import random as rm\n",
    "import nltk\n",
    "import unicodedata\n",
    "from nltk.corpus import stopwords\n",
    "from nltk.stem import WordNetLemmatizer\n",
    "from nltk import pos_tag\n",
    "from sklearn.model_selection import train_test_split\n",
    "import math\n",
    "from sklearn.metrics import confusion_matrix"
   ]
  },
  {
   "cell_type": "code",
   "execution_count": 207,
   "id": "647abdce-b11a-4c72-bc69-96fec6bba020",
   "metadata": {},
   "outputs": [
    {
     "name": "stderr",
     "output_type": "stream",
     "text": [
      "[nltk_data] Downloading package punkt to\n",
      "[nltk_data]     /Users/sabyrkabylbek/nltk_data...\n",
      "[nltk_data]   Package punkt is already up-to-date!\n",
      "[nltk_data] Downloading package stopwords to\n",
      "[nltk_data]     /Users/sabyrkabylbek/nltk_data...\n",
      "[nltk_data]   Package stopwords is already up-to-date!\n",
      "[nltk_data] Downloading package wordnet to\n",
      "[nltk_data]     /Users/sabyrkabylbek/nltk_data...\n",
      "[nltk_data]   Package wordnet is already up-to-date!\n",
      "[nltk_data] Downloading package averaged_perceptron_tagger to\n",
      "[nltk_data]     /Users/sabyrkabylbek/nltk_data...\n",
      "[nltk_data]   Unzipping taggers/averaged_perceptron_tagger.zip.\n"
     ]
    },
    {
     "data": {
      "text/plain": [
       "True"
      ]
     },
     "execution_count": 207,
     "metadata": {},
     "output_type": "execute_result"
    }
   ],
   "source": [
    "nltk.download('punkt')\n",
    "nltk.download('stopwords')\n",
    "nltk.download('wordnet')\n",
    "nltk.download('averaged_perceptron_tagger')  # For POS tagging\n"
   ]
  },
  {
   "cell_type": "code",
   "execution_count": 3,
   "id": "706d66f4-8736-43f4-a30c-31970afbd92b",
   "metadata": {},
   "outputs": [
    {
     "name": "stdout",
     "output_type": "stream",
     "text": [
      "--2025-05-21 22:08:43--  https://lazyprogrammer.me/course_files/spam.csv\n",
      "Resolving lazyprogrammer.me (lazyprogrammer.me)... 2606:4700:3030::ac43:d5a6, 2606:4700:3031::6815:17d2, 172.67.213.166, ...\n",
      "Connecting to lazyprogrammer.me (lazyprogrammer.me)|2606:4700:3030::ac43:d5a6|:443... connected.\n",
      "HTTP request sent, awaiting response... 200 OK\n",
      "Length: 503663 (492K) [text/csv]\n",
      "Saving to: ‘spam.csv’\n",
      "\n",
      "spam.csv            100%[===================>] 491.86K   539KB/s    in 0.9s    \n",
      "\n",
      "2025-05-21 22:08:46 (539 KB/s) - ‘spam.csv’ saved [503663/503663]\n",
      "\n"
     ]
    }
   ],
   "source": [
    "!wget https://lazyprogrammer.me/course_files/spam.csv"
   ]
  },
  {
   "cell_type": "code",
   "execution_count": 3,
   "id": "791027d3-32a5-4021-96af-231c331023ec",
   "metadata": {},
   "outputs": [],
   "source": [
    "df = pd.read_csv(\"spam.csv\", encoding='ISO-8859-1')"
   ]
  },
  {
   "cell_type": "markdown",
   "id": "f3ce2e91-ac61-4d90-97ad-ff5ebcd6ef19",
   "metadata": {},
   "source": [
    "## Data Preparation"
   ]
  },
  {
   "cell_type": "code",
   "execution_count": 6,
   "id": "e7ab0b21-51f1-46f2-8d1e-eb3927b5090e",
   "metadata": {},
   "outputs": [],
   "source": [
    "df['v2'] = df.v2.apply(lambda x: unicodedata.normalize('NFKC',str(x)))\n",
    "df['v2_token'] = df.v2.apply(lambda x: nltk.word_tokenize(x))\n",
    "df['v2_token'] = df.v2_token.apply(lambda x: [token for token in x if token.lower() not in set(stopwords.words('english'))])\n"
   ]
  },
  {
   "cell_type": "code",
   "execution_count": 7,
   "id": "242cbcd1-fb05-4f40-83a1-0470b4dbf7c1",
   "metadata": {},
   "outputs": [],
   "source": [
    "# Function to map POS tags to WordNet POS categories\n",
    "def get_wordnet_pos(treebank_tag):\n",
    "    if treebank_tag.startswith('J'):\n",
    "        return 'a'  # Adjective\n",
    "    elif treebank_tag.startswith('V'):\n",
    "        return 'v'  # Verb\n",
    "    elif treebank_tag.startswith('N'):\n",
    "        return 'n'  # Noun\n",
    "    elif treebank_tag.startswith('R'):\n",
    "        return 'r'  # Adverb\n",
    "    else:\n",
    "        return 'n'  # Default to noun\n",
    "\n",
    "lemmatizer = WordNetLemmatizer()\n",
    "df['v2_token'] = df['v2_token'].apply(lambda x: [lemmatizer.lemmatize(token, get_wordnet_pos(pos)) for token, pos in pos_tag(x)])"
   ]
  },
  {
   "cell_type": "code",
   "execution_count": 8,
   "id": "039bb5eb-3684-437b-93fa-efacc04a15ec",
   "metadata": {},
   "outputs": [],
   "source": [
    "df['v1_bool'] = df.v1.apply(lambda x: x == 'spam')"
   ]
  },
  {
   "cell_type": "code",
   "execution_count": 9,
   "id": "ba9cf614-40d5-46ce-bb81-d8d6d3cb8de0",
   "metadata": {},
   "outputs": [],
   "source": [
    "df['v2_token_set'] = df.v2_token.apply(lambda x: set(x))"
   ]
  },
  {
   "cell_type": "code",
   "execution_count": 10,
   "id": "7db348d4-985a-4446-a91d-3f963a0e12cf",
   "metadata": {},
   "outputs": [],
   "source": [
    "X_train, X_test, y_train, y_test = train_test_split(df.v2_token, df.v1_bool, test_size = 0.2, random_state = 42, \n",
    "                                                   stratify = df.v1_bool)"
   ]
  },
  {
   "cell_type": "code",
   "execution_count": 12,
   "id": "aefcf079-52b4-43c6-b3f1-7163cc0f7d93",
   "metadata": {},
   "outputs": [],
   "source": [
    "all_train_vocab_set = set()\n",
    "spam_vocab_set = set()\n",
    "ham_vocab_set = set()\n",
    "for x, y in zip(X_train, y_train):\n",
    "    all_train_vocab_set |= set(x)\n",
    "    if y == True:\n",
    "        spam_vocab_set |= set(x)\n",
    "    else:\n",
    "        ham_vocab_set |= set(x)"
   ]
  },
  {
   "cell_type": "code",
   "execution_count": 13,
   "id": "6dcd0951-da00-4a3a-86af-cb94fc2dea44",
   "metadata": {},
   "outputs": [
    {
     "data": {
      "text/plain": [
       "(0.13417096701817366, 0.8658290329818263)"
      ]
     },
     "execution_count": 13,
     "metadata": {},
     "output_type": "execute_result"
    }
   ],
   "source": [
    "# calculate priors\n",
    "P_s = sum(y_train == 1)/ len(y_train)\n",
    "P_h = sum(y_train == 0)/ len(y_train)\n",
    "P_s, P_h"
   ]
  },
  {
   "cell_type": "code",
   "execution_count": 20,
   "id": "2374ec77-70ec-4970-8cca-92bddb65ccd5",
   "metadata": {},
   "outputs": [
    {
     "name": "stdout",
     "output_type": "stream",
     "text": [
      "Sample counts for spam words: {'nothing': 14, '.': 3906, 'wat': 67, \"'s\": 379, 'guy': 43}\n",
      "Sample counts for ham words: {'Going': 10, 'nothing': 14, 'great.bye': 1, 'wont': 27, '.': 3906}\n"
     ]
    }
   ],
   "source": [
    "cw_s = {} # count of word in spam\n",
    "cw_h = {} # count of word in ham\n",
    "\n",
    "for token_line in X_train:\n",
    "    for word_ in token_line:\n",
    "        if word_ in spam_vocab_set:\n",
    "            cw_s[word_] = cw_s.get(word_, 0) + 1\n",
    "    \n",
    "        if word_ in ham_vocab_set:\n",
    "            cw_h[word_] = cw_h.get(word_, 0) + 1\n",
    "\n",
    "# Print some sample counts for verification\n",
    "print(\"Sample counts for spam words:\", {k: cw_s[k] for k in list(cw_s)[:5]})\n",
    "print(\"Sample counts for ham words:\", {k: cw_h[k] for k in list(cw_h)[:5]})"
   ]
  },
  {
   "cell_type": "code",
   "execution_count": 22,
   "id": "d6962b58-a64e-45d6-9662-5d3c10129e16",
   "metadata": {},
   "outputs": [],
   "source": [
    "# input_list - is the list of tokens to classify\n",
    "# P_prior - is the priors\n",
    "# class_word_cnt - dictionary of word: count in the given class\n",
    "\n",
    "def calculate_probability(input_list, P_prior, class_word_cnt):\n",
    "    log_sum_p = 0\n",
    "    all_words_count = sum(class_word_cnt.values())\n",
    "    for word in input_list:\n",
    "        term = (class_word_cnt.get(word, 0)+1)/(all_words_count)\n",
    "        log_sum_p += math.log(term)\n",
    "    log_sum_p += math.log(P_prior)\n",
    "    return log_sum_p"
   ]
  },
  {
   "cell_type": "code",
   "execution_count": 24,
   "id": "cc0849a9-923a-47dd-bf16-a20b33c1135a",
   "metadata": {},
   "outputs": [],
   "source": [
    "def predict_spam(X_input):\n",
    "    y_train_predict = np.zeros(len(X_input))\n",
    "    for i in range(0, len(X_input)):\n",
    "        input_set = X_input.iloc[i]\n",
    "        spam = calculate_probability(input_set, P_s, cw_s)\n",
    "        ham = calculate_probability(input_set, P_h, cw_h)\n",
    "        if spam > ham:\n",
    "            y_train_predict[i] = 1\n",
    "        else:\n",
    "            y_train_predict[i] = 0\n",
    "    return y_train_predict"
   ]
  },
  {
   "cell_type": "code",
   "execution_count": 64,
   "id": "e3647bb1-5a3e-408d-b622-e7a895372f11",
   "metadata": {},
   "outputs": [],
   "source": [
    "def calculate_confustion_matrixt(y_actual, y_pred):\n",
    "    cm_train = confusion_matrix(y_actual, y_pred)\n",
    "    # Define the labels for the rows and columns\n",
    "    row_labels = ['Actual Negative', 'Actual Positive']\n",
    "    column_labels = ['Predicted Negative', 'Predicted Positive']\n",
    "    # Create a DataFrame with labeled rows and columns\n",
    "    cm_train_df = pd.DataFrame(cm_train, index=row_labels, columns=column_labels)\n",
    "    return cm_train_df"
   ]
  },
  {
   "cell_type": "code",
   "execution_count": 66,
   "id": "3bc29f36-9b07-4021-845c-a808d5103487",
   "metadata": {},
   "outputs": [],
   "source": [
    "y_train_pred = predict_spam(X_train)\n",
    "cm_train = calculate_confustion_matrixt(y_train, y_train_pred)"
   ]
  },
  {
   "cell_type": "code",
   "execution_count": 68,
   "id": "6037ece4-ad8e-4dd6-870c-d407a9be49ff",
   "metadata": {},
   "outputs": [
    {
     "data": {
      "text/html": [
       "<div>\n",
       "<style scoped>\n",
       "    .dataframe tbody tr th:only-of-type {\n",
       "        vertical-align: middle;\n",
       "    }\n",
       "\n",
       "    .dataframe tbody tr th {\n",
       "        vertical-align: top;\n",
       "    }\n",
       "\n",
       "    .dataframe thead th {\n",
       "        text-align: right;\n",
       "    }\n",
       "</style>\n",
       "<table border=\"1\" class=\"dataframe\">\n",
       "  <thead>\n",
       "    <tr style=\"text-align: right;\">\n",
       "      <th></th>\n",
       "      <th>Predicted Negative</th>\n",
       "      <th>Predicted Positive</th>\n",
       "    </tr>\n",
       "  </thead>\n",
       "  <tbody>\n",
       "    <tr>\n",
       "      <th>Actual Negative</th>\n",
       "      <td>3834</td>\n",
       "      <td>25</td>\n",
       "    </tr>\n",
       "    <tr>\n",
       "      <th>Actual Positive</th>\n",
       "      <td>1</td>\n",
       "      <td>597</td>\n",
       "    </tr>\n",
       "  </tbody>\n",
       "</table>\n",
       "</div>"
      ],
      "text/plain": [
       "                 Predicted Negative  Predicted Positive\n",
       "Actual Negative                3834                  25\n",
       "Actual Positive                   1                 597"
      ]
     },
     "execution_count": 68,
     "metadata": {},
     "output_type": "execute_result"
    }
   ],
   "source": [
    "cm_train"
   ]
  },
  {
   "cell_type": "code",
   "execution_count": 70,
   "id": "65f17806-e3a6-4021-9800-a46a8b2ad820",
   "metadata": {},
   "outputs": [],
   "source": [
    "y_test_pred = predict_spam(X_test)\n",
    "cm_test = calculate_confustion_matrixt(y_test, y_test_pred)"
   ]
  },
  {
   "cell_type": "code",
   "execution_count": 72,
   "id": "e8092562-48fe-4eeb-84f1-54808bede3b9",
   "metadata": {},
   "outputs": [
    {
     "data": {
      "text/html": [
       "<div>\n",
       "<style scoped>\n",
       "    .dataframe tbody tr th:only-of-type {\n",
       "        vertical-align: middle;\n",
       "    }\n",
       "\n",
       "    .dataframe tbody tr th {\n",
       "        vertical-align: top;\n",
       "    }\n",
       "\n",
       "    .dataframe thead th {\n",
       "        text-align: right;\n",
       "    }\n",
       "</style>\n",
       "<table border=\"1\" class=\"dataframe\">\n",
       "  <thead>\n",
       "    <tr style=\"text-align: right;\">\n",
       "      <th></th>\n",
       "      <th>Predicted Negative</th>\n",
       "      <th>Predicted Positive</th>\n",
       "    </tr>\n",
       "  </thead>\n",
       "  <tbody>\n",
       "    <tr>\n",
       "      <th>Actual Negative</th>\n",
       "      <td>943</td>\n",
       "      <td>23</td>\n",
       "    </tr>\n",
       "    <tr>\n",
       "      <th>Actual Positive</th>\n",
       "      <td>9</td>\n",
       "      <td>140</td>\n",
       "    </tr>\n",
       "  </tbody>\n",
       "</table>\n",
       "</div>"
      ],
      "text/plain": [
       "                 Predicted Negative  Predicted Positive\n",
       "Actual Negative                 943                  23\n",
       "Actual Positive                   9                 140"
      ]
     },
     "execution_count": 72,
     "metadata": {},
     "output_type": "execute_result"
    }
   ],
   "source": [
    "cm_test"
   ]
  },
  {
   "cell_type": "code",
   "execution_count": 74,
   "id": "0cd1be6c-1c32-4030-9a61-43def6a61f6a",
   "metadata": {},
   "outputs": [],
   "source": [
    "precision_train = cm_train.loc['Actual Positive', 'Predicted Positive'] / (cm_train.loc['Actual Positive', 'Predicted Positive'] +\n",
    "                                                                       cm_train.loc['Actual Negative', 'Predicted Positive'])\n",
    "recall_train = cm_train.loc['Actual Positive', 'Predicted Positive'] / (cm_train.loc['Actual Positive', 'Predicted Positive'] +\n",
    "                                                                       cm_train.loc['Actual Positive', 'Predicted Negative'])\n",
    "\n",
    "\n",
    "precision_test = cm_test.loc['Actual Positive', 'Predicted Positive'] / (cm_test.loc['Actual Positive', 'Predicted Positive'] +\n",
    "                                                                       cm_test.loc['Actual Negative', 'Predicted Positive'])\n",
    "recall_test = cm_test.loc['Actual Positive', 'Predicted Positive'] / (cm_test.loc['Actual Positive', 'Predicted Positive'] +\n",
    "                                                                       cm_test.loc['Actual Positive', 'Predicted Negative'])\n",
    "\n",
    "F1_train = 2 * ((precision_train * recall_train) / (precision_train + recall_train))\n",
    "F1_test = 2 * ((precision_test * recall_test) / (precision_test + recall_test))"
   ]
  },
  {
   "cell_type": "code",
   "execution_count": 76,
   "id": "7db180cf-9b2c-4d95-a8ea-19c265a24c31",
   "metadata": {},
   "outputs": [
    {
     "data": {
      "text/plain": [
       "0.978688524590164"
      ]
     },
     "execution_count": 76,
     "metadata": {},
     "output_type": "execute_result"
    }
   ],
   "source": [
    "F1_train"
   ]
  },
  {
   "cell_type": "code",
   "execution_count": 78,
   "id": "cdbb46eb-1720-489a-80a2-b7a88401f1a5",
   "metadata": {},
   "outputs": [
    {
     "data": {
      "text/plain": [
       "0.8974358974358976"
      ]
     },
     "execution_count": 78,
     "metadata": {},
     "output_type": "execute_result"
    }
   ],
   "source": [
    "F1_test"
   ]
  },
  {
   "cell_type": "markdown",
   "id": "57d31f60-9add-490f-adf7-42dbe919b225",
   "metadata": {},
   "source": [
    "## Old version of code (Errors)"
   ]
  },
  {
   "cell_type": "code",
   "execution_count": 510,
   "id": "80c5ee10-0478-450e-8a2b-b82ca9f3e619",
   "metadata": {},
   "outputs": [
    {
     "name": "stdout",
     "output_type": "stream",
     "text": [
      "Sample counts for spam words: {}\n",
      "Sample counts for ham words: {'fortune': 1, 'kappa': 1, 'sapna': 1, 'sofa': 1, 'breezy': 1}\n"
     ]
    }
   ],
   "source": [
    "cw_s = {}\n",
    "cw_h = {}\n",
    "\n",
    "for word_ in all_train_vocab_set:\n",
    "    if word_ in spam_vocab_set:\n",
    "        cw_s[word_] = cw_s.get(word_, 0) + 1\n",
    "\n",
    "    if word_ in ham_vocab_set:\n",
    "        cw_h[word_] = cw_h.get(word_, 0) + 1\n",
    "\n",
    "# Print some sample counts for verification\n",
    "print(\"Sample counts for spam words:\", {k: cw_s[k] for k in list(cw_s)[:5]})\n",
    "print(\"Sample counts for ham words:\", {k: cw_h[k] for k in list(cw_h)[:5]})"
   ]
  },
  {
   "cell_type": "code",
   "execution_count": 532,
   "id": "c400bf23-1981-4afb-b3c4-9d8b72c3efe2",
   "metadata": {},
   "outputs": [],
   "source": [
    "def calculate_probability(input_set, all_train_vocab_set, cls_vocab_set, cnt_wrd_dict, P_prior):\n",
    "    tl_wrds_class = len(cls_vocab_set)\n",
    "    tl_wrds_trainset = len(all_train_vocab_set)\n",
    "    log_sum_p = 0\n",
    "    for word in input_set:\n",
    "        term = (cnt_wrd_dict.get(word, 0)+1)/(tl_wrds_class+tl_wrds_trainset)\n",
    "        log_sum_p += math.log(term)\n",
    "    log_sum_p += math.log(P_prior)\n",
    "    return log_sum_p"
   ]
  },
  {
   "cell_type": "code",
   "execution_count": 556,
   "id": "c20f1c2c-d11a-44d5-855f-31f70026bc50",
   "metadata": {},
   "outputs": [],
   "source": [
    "y_train_predict = np.zeros(len(y_train))\n",
    "for i in range(0, len(X_train)):\n",
    "    input_set = X_train.iloc[i]\n",
    "    spam = calculate_probability(input_set, all_train_vocab_set, spam_vocab_set, cw_s, P_s)\n",
    "    ham = calculate_probability(input_set, all_train_vocab_set, ham_vocab_set, cw_h, P_h)\n",
    "    if spam > ham:\n",
    "        y_train_predict[i] = 1\n",
    "    else:\n",
    "        y_train_predict[i] = 0"
   ]
  },
  {
   "cell_type": "code",
   "execution_count": 558,
   "id": "658b80ef-d1bc-405c-a829-ac06e352854a",
   "metadata": {},
   "outputs": [],
   "source": [
    "y_train_predict = np.zeros(len(y_train))\n",
    "for i in X_train:\n",
    "    spam = calculate_probability(i, all_train_vocab_set, spam_vocab_set, cw_s, P_s)\n",
    "    ham = calculate_probability(i, all_train_vocab_set, ham_vocab_set, cw_h, P_h)"
   ]
  },
  {
   "cell_type": "code",
   "execution_count": null,
   "id": "685e2e09-9c9a-45c6-958c-4b3264357ba2",
   "metadata": {},
   "outputs": [],
   "source": []
  }
 ],
 "metadata": {
  "kernelspec": {
   "display_name": "Python 3 (ipykernel)",
   "language": "python",
   "name": "python3"
  },
  "language_info": {
   "codemirror_mode": {
    "name": "ipython",
    "version": 3
   },
   "file_extension": ".py",
   "mimetype": "text/x-python",
   "name": "python",
   "nbconvert_exporter": "python",
   "pygments_lexer": "ipython3",
   "version": "3.12.4"
  }
 },
 "nbformat": 4,
 "nbformat_minor": 5
}
